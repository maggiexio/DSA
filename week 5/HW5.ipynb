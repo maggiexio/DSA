{
 "cells": [
  {
   "cell_type": "raw",
   "id": "c106b7d6-d1f9-44ef-bea3-a60037803ba8",
   "metadata": {},
   "source": []
  },
  {
   "cell_type": "code",
   "execution_count": 22,
   "id": "2c2d4c55-add9-4136-818c-3aeaff29be63",
   "metadata": {},
   "outputs": [
    {
     "data": {
      "text/html": [
       "<div>\n",
       "<style scoped>\n",
       "    .dataframe tbody tr th:only-of-type {\n",
       "        vertical-align: middle;\n",
       "    }\n",
       "\n",
       "    .dataframe tbody tr th {\n",
       "        vertical-align: top;\n",
       "    }\n",
       "\n",
       "    .dataframe thead th {\n",
       "        text-align: right;\n",
       "    }\n",
       "</style>\n",
       "<table border=\"1\" class=\"dataframe\">\n",
       "  <thead>\n",
       "    <tr style=\"text-align: right;\">\n",
       "      <th></th>\n",
       "      <th>TestTakerID</th>\n",
       "      <th>Timestamp</th>\n",
       "      <th>Coding</th>\n",
       "    </tr>\n",
       "  </thead>\n",
       "  <tbody>\n",
       "    <tr>\n",
       "      <th>0</th>\n",
       "      <td>1001042</td>\n",
       "      <td>0</td>\n",
       "      <td>START</td>\n",
       "    </tr>\n",
       "    <tr>\n",
       "      <th>1</th>\n",
       "      <td>1001042</td>\n",
       "      <td>44985</td>\n",
       "      <td>SS_Se</td>\n",
       "    </tr>\n",
       "    <tr>\n",
       "      <th>2</th>\n",
       "      <td>1001042</td>\n",
       "      <td>55852</td>\n",
       "      <td>SS_Se_OK</td>\n",
       "    </tr>\n",
       "    <tr>\n",
       "      <th>3</th>\n",
       "      <td>1001042</td>\n",
       "      <td>55950</td>\n",
       "      <td>SS_Type_2</td>\n",
       "    </tr>\n",
       "    <tr>\n",
       "      <th>4</th>\n",
       "      <td>1001042</td>\n",
       "      <td>66546</td>\n",
       "      <td>E</td>\n",
       "    </tr>\n",
       "    <tr>\n",
       "      <th>...</th>\n",
       "      <td>...</td>\n",
       "      <td>...</td>\n",
       "      <td>...</td>\n",
       "    </tr>\n",
       "    <tr>\n",
       "      <th>10991</th>\n",
       "      <td>4076375</td>\n",
       "      <td>82216</td>\n",
       "      <td>SS</td>\n",
       "    </tr>\n",
       "    <tr>\n",
       "      <th>10992</th>\n",
       "      <td>4076375</td>\n",
       "      <td>107365</td>\n",
       "      <td>E</td>\n",
       "    </tr>\n",
       "    <tr>\n",
       "      <th>10993</th>\n",
       "      <td>4076375</td>\n",
       "      <td>112452</td>\n",
       "      <td>Next</td>\n",
       "    </tr>\n",
       "    <tr>\n",
       "      <th>10994</th>\n",
       "      <td>4076375</td>\n",
       "      <td>113670</td>\n",
       "      <td>Next_OK</td>\n",
       "    </tr>\n",
       "    <tr>\n",
       "      <th>10995</th>\n",
       "      <td>4076375</td>\n",
       "      <td>113672</td>\n",
       "      <td>END</td>\n",
       "    </tr>\n",
       "  </tbody>\n",
       "</table>\n",
       "<p>10996 rows × 3 columns</p>\n",
       "</div>"
      ],
      "text/plain": [
       "      TestTakerID Timestamp     Coding\n",
       "0         1001042         0      START\n",
       "1         1001042     44985      SS_Se\n",
       "2         1001042     55852   SS_Se_OK\n",
       "3         1001042     55950  SS_Type_2\n",
       "4         1001042     66546          E\n",
       "...           ...       ...        ...\n",
       "10991     4076375     82216         SS\n",
       "10992     4076375    107365          E\n",
       "10993     4076375    112452       Next\n",
       "10994     4076375    113670    Next_OK\n",
       "10995     4076375    113672        END\n",
       "\n",
       "[10996 rows x 3 columns]"
      ]
     },
     "execution_count": 22,
     "metadata": {},
     "output_type": "execute_result"
    }
   ],
   "source": [
    "# Load pandas\n",
    "import pandas as pd\n",
    "\n",
    "# Read CSV file into DataFrame df\n",
    "df = pd.read_csv('C:/Users/XXiong/Documents/ETS/upskill/Data Science Academy/week 5/Synthetic Dataset/PSTRE_syntheticData.csv', header=0)\n",
    "df[[\"TestTakerID\", \"Timestamp\", \"Coding\"]]= df[df.columns[0]].str.split(\"\\t\", n = 2, expand = True)\n",
    "df1=df.iloc[:, 1:4]\n",
    "df1\n"
   ]
  },
  {
   "cell_type": "code",
   "execution_count": 56,
   "id": "534d91ac-25da-457f-9699-a992e3616bea",
   "metadata": {},
   "outputs": [
    {
     "name": "stdout",
     "output_type": "stream",
     "text": [
      "(10996, 3)\n",
      "1079\n"
     ]
    },
    {
     "data": {
      "text/plain": [
       "('1001042',\n",
       "   TestTakerID Timestamp     Coding\n",
       " 0     1001042         0      START\n",
       " 1     1001042     44985      SS_Se\n",
       " 2     1001042     55852   SS_Se_OK\n",
       " 3     1001042     55950  SS_Type_2\n",
       " 4     1001042     66546          E\n",
       " 5     1001042     90189         SS\n",
       " 6     1001042     96096          E\n",
       " 7     1001042    101813       Next\n",
       " 8     1001042    105379    Next_OK\n",
       " 9     1001042    105382        END)"
      ]
     },
     "execution_count": 56,
     "metadata": {},
     "output_type": "execute_result"
    }
   ],
   "source": [
    "print(df1.shape)\n",
    "examinee=list(df1.groupby(\"TestTakerID\"))\n",
    "print(len(examinee))\n",
    "examinee[0]\n",
    "\n"
   ]
  },
  {
   "cell_type": "code",
   "execution_count": 201,
   "id": "7668b566-b414-44e8-8336-03d11e711506",
   "metadata": {},
   "outputs": [
    {
     "name": "stderr",
     "output_type": "stream",
     "text": [
      "[nltk_data] Downloading package punkt to\n",
      "[nltk_data]     C:\\Users\\XXiong\\AppData\\Roaming\\nltk_data...\n",
      "[nltk_data]   Package punkt is already up-to-date!\n"
     ]
    },
    {
     "name": "stdout",
     "output_type": "stream",
     "text": [
      "1079\n"
     ]
    },
    {
     "data": {
      "text/plain": [
       "('1001042',\n",
       "   TestTakerID Timestamp     Coding  TimeInterval              ActionSeq\n",
       " 0     1001042         0      START             0         [START, SS_Se]\n",
       " 1     1001042     44985      SS_Se         44985      [SS_Se, SS_Se_OK]\n",
       " 2     1001042     55852   SS_Se_OK         10867  [SS_Se_OK, SS_Type_2]\n",
       " 3     1001042     55950  SS_Type_2            98         [SS_Type_2, E]\n",
       " 4     1001042     66546          E         10596                [E, SS]\n",
       " 5     1001042     90189         SS         23643                [SS, E]\n",
       " 6     1001042     96096          E          5907              [E, Next]\n",
       " 7     1001042    101813       Next          5717        [Next, Next_OK]\n",
       " 8     1001042    105379    Next_OK          3566         [Next_OK, END]\n",
       " 9     1001042    105382        END             3                 [-, -])"
      ]
     },
     "execution_count": 201,
     "metadata": {},
     "output_type": "execute_result"
    }
   ],
   "source": [
    "\n",
    "import numpy as np\n",
    "\n",
    "for count, ele in enumerate(examinee,0):\n",
    "    tmp=ele[1]['Timestamp'].values.astype('int')\n",
    "    TimeInterval=np.diff(tmp)\n",
    "    TimeInterval=np.insert(TimeInterval, 0,0)\n",
    "\n",
    "    tmp1=ele[1]['Coding'].values\n",
    "    ActionSeq=list(zip(tmp1[:-1], tmp1[:]))\n",
    "    ActionSeq=np.append(ActionSeq, [['-' ,'-']], axis=0)\n",
    "\n",
    "\n",
    "print(len(examinee))\n",
    "examinee[0]\n",
    "\n"
   ]
  },
  {
   "cell_type": "code",
   "execution_count": null,
   "id": "d16d5669-6e66-4669-a23b-3fc5364d1f01",
   "metadata": {},
   "outputs": [],
   "source": []
  },
  {
   "cell_type": "code",
   "execution_count": null,
   "id": "46905fe9-b0f8-411a-879a-454abe14068c",
   "metadata": {},
   "outputs": [],
   "source": []
  },
  {
   "cell_type": "code",
   "execution_count": null,
   "id": "f7bc058a-a77f-4575-a61e-ad29b1ea493c",
   "metadata": {},
   "outputs": [],
   "source": []
  },
  {
   "cell_type": "code",
   "execution_count": null,
   "id": "678bf59c-f468-4795-acaf-8e6f919e2bd5",
   "metadata": {},
   "outputs": [],
   "source": []
  }
 ],
 "metadata": {
  "kernelspec": {
   "display_name": "Python 3",
   "language": "python",
   "name": "python3"
  },
  "language_info": {
   "codemirror_mode": {
    "name": "ipython",
    "version": 3
   },
   "file_extension": ".py",
   "mimetype": "text/x-python",
   "name": "python",
   "nbconvert_exporter": "python",
   "pygments_lexer": "ipython3",
   "version": "3.8.8"
  }
 },
 "nbformat": 4,
 "nbformat_minor": 5
}

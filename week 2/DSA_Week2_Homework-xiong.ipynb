{
 "cells": [
  {
   "cell_type": "code",
   "execution_count": 161,
   "metadata": {},
   "outputs": [
    {
     "name": "stdout",
     "output_type": "stream",
     "text": [
      "[1. 1. 1. 1. 1. 1. 1. 1. 1. 1.]\n"
     ]
    }
   ],
   "source": [
    "import numpy as np\n",
    "\n",
    "#1. Create a null array of size 10 but the fifth value which is 1\n",
    "size1=10\n",
    "x1=np.empty(size1)\n",
    "x1[4]=1\n",
    "\n",
    "print (x1)\n"
   ]
  },
  {
   "cell_type": "code",
   "execution_count": 160,
   "metadata": {},
   "outputs": [
    {
     "name": "stdout",
     "output_type": "stream",
     "text": [
      "Reversed x1 is [1. 1. 1. 1. 1. 1. 1. 1. 1. 1.]\n",
      "\n"
     ]
    }
   ],
   "source": [
    "#2. Reverse a above created array (first element becomes last)\n",
    "x2= x1[::-1]\n",
    "print ('Reversed x1 is %s\\n'%x2)"
   ]
  },
  {
   "cell_type": "code",
   "execution_count": 148,
   "metadata": {},
   "outputs": [
    {
     "name": "stdout",
     "output_type": "stream",
     "text": [
      "The created matrix x3 is: \n",
      "\n",
      "[[6 0 4]\n",
      " [6 4 3]\n",
      " [2 2 6]]\n",
      "\n",
      "The created matrix x4 is: \n",
      "\n",
      "[[0 1 2]\n",
      " [3 4 5]\n",
      " [6 7 8]]\n"
     ]
    }
   ],
   "source": [
    "#3. Create a 3x3 matrix with values ranging from 0 to 8\n",
    "Max_N=8+1\n",
    "Len_R=3\n",
    "Len_C=3\n",
    "x3=np.random.randint(0,8, (Len_R, Len_C))\n",
    "print(\"The created matrix x3 is: \\n\")\n",
    "print (x3)\n",
    "\n",
    "x4 = np.arange(Max_N). reshape(Len_R, Len_C)\n",
    "print(\"\\nThe created matrix x4 is: \\n\")\n",
    "print (x4)"
   ]
  },
  {
   "cell_type": "code",
   "execution_count": 149,
   "metadata": {},
   "outputs": [
    {
     "name": "stdout",
     "output_type": "stream",
     "text": [
      "Elements with value 1  exists at following indices [0]\n",
      "\n",
      "Elements with value 2  exists at following indices [1]\n",
      "\n",
      "Elements with value 0  exists at following indices [2 3 5]\n",
      "\n",
      "Elements with value 0  exists at following indices [2 3 5]\n",
      "\n",
      "Elements with value 4  exists at following indices [4]\n",
      "\n",
      "Elements with value 0  exists at following indices [2 3 5]\n",
      "\n"
     ]
    }
   ],
   "source": [
    "#4. Find indices of non-zero elements from [1,2,0,0,4,0]\n",
    "x5=np.array([1,2,0,0,4,0])\n",
    "for i in x5:\n",
    "    Ind=np.where(x5==i)\n",
    "    print('Elements with value %s'%i,' exists at following indices %s\\n'%Ind[0])"
   ]
  },
  {
   "cell_type": "code",
   "execution_count": 150,
   "metadata": {},
   "outputs": [
    {
     "name": "stdout",
     "output_type": "stream",
     "text": [
      "The created matrix x6 is: \n",
      "\n",
      "[[[0.38756787 0.90801788 0.10617466]\n",
      "  [0.25759677 0.1658186  0.66899201]\n",
      "  [0.78975519 0.42292407 0.53497467]]\n",
      "\n",
      " [[0.09385981 0.70157531 0.49388879]\n",
      "  [0.52536308 0.06709341 0.70223237]\n",
      "  [0.66027511 0.29917681 0.18130708]]\n",
      "\n",
      " [[0.62040652 0.92495319 0.04686256]\n",
      "  [0.48701241 0.90095825 0.83376899]\n",
      "  [0.4203045  0.26695128 0.30570845]]]\n"
     ]
    }
   ],
   "source": [
    "#5. Create a 3x3x3 array with random values\n",
    "Len_1=3\n",
    "Len_2=3\n",
    "Len_3=3\n",
    "x6=np.random.random(size= (Len_1, Len_2, Len_3))\n",
    "print(\"The created matrix x6 is: \\n\")\n",
    "print (x6)"
   ]
  },
  {
   "cell_type": "code",
   "execution_count": 151,
   "metadata": {},
   "outputs": [
    {
     "name": "stdout",
     "output_type": "stream",
     "text": [
      "The whole matrix is\n",
      " [[0.51678487 0.01625373 0.20624748 0.08802779 0.08512195 0.97500283\n",
      "  0.74887194 0.32633903 0.57041221 0.14927964]\n",
      " [0.34619754 0.07113958 0.10164333 0.79995315 0.20086069 0.88949948\n",
      "  0.86694646 0.74460484 0.49774418 0.99645365]\n",
      " [0.00834154 0.67292964 0.72657421 0.32088321 0.32276426 0.85474997\n",
      "  0.4914037  0.72734739 0.15057895 0.64841882]\n",
      " [0.20461078 0.44736085 0.83745763 0.74732987 0.04238325 0.80159034\n",
      "  0.6753808  0.16484361 0.46937412 0.83145331]\n",
      " [0.45359974 0.64616217 0.83892029 0.43421541 0.5227156  0.76427239\n",
      "  0.58597545 0.03385274 0.78691617 0.26275835]\n",
      " [0.64845918 0.17326736 0.66839653 0.41232248 0.68248147 0.943677\n",
      "  0.60034338 0.96132109 0.09744955 0.39513167]\n",
      " [0.41966436 0.93505619 0.18804541 0.74385876 0.61198942 0.99123454\n",
      "  0.86833152 0.65363271 0.12233938 0.54562074]\n",
      " [0.29401141 0.64605763 0.79099944 0.63188968 0.06882587 0.12185188\n",
      "  0.16409262 0.30904117 0.41012544 0.54414325]\n",
      " [0.60872433 0.43262011 0.83103478 0.74789087 0.07826084 0.78870196\n",
      "  0.06272768 0.29523519 0.5823377  0.65761654]\n",
      " [0.2454915  0.97258697 0.48327912 0.77127995 0.80910842 0.97039638\n",
      "  0.32633439 0.16178085 0.1477615  0.52581491]]\n",
      "\n",
      "The minimal element in x7 is 0.008341538556082995\n",
      "\n",
      "The maximal element in x7 is 0.9964536474757143\n",
      "\n"
     ]
    }
   ],
   "source": [
    "#6. Create a 10x10 array with random values and find the minimum and maximum values\n",
    "Len_R=10\n",
    "Len_C=10\n",
    "x7=np.random.random(size= (Len_R, Len_C))\n",
    "min_ele=np.min(x7)\n",
    "max_ele=np.max(x7)\n",
    "print ('The whole matrix is\\n',x7)\n",
    "print ('\\nThe minimal element in x7 is %s\\n'%min_ele)\n",
    "print ('The maximal element in x7 is %s\\n'%max_ele)"
   ]
  },
  {
   "cell_type": "code",
   "execution_count": 152,
   "metadata": {},
   "outputs": [
    {
     "name": "stdout",
     "output_type": "stream",
     "text": [
      "The matrix  is \n",
      "[12 80 17 51 85  3 58 26 25 64 82 34 50 73 50 78  3 51 96 31 14 16 98 24\n",
      " 50 80 36 53 23  3]\n",
      "\n",
      "\n",
      "The average of x8 is 45.53333333333333\n",
      "\n"
     ]
    }
   ],
   "source": [
    "#7. Create a random vector of size 30 and find the mean value\n",
    "x8=np.random.randint(low=0, high=99, size=(30,))\n",
    "print ('The matrix  is \\n%s\\n'%x8)\n",
    "mean_x8=np.mean(x8)\n",
    "print ('\\nThe average of x8 is %s\\n'%mean_x8)"
   ]
  },
  {
   "cell_type": "code",
   "execution_count": 153,
   "metadata": {},
   "outputs": [
    {
     "name": "stdout",
     "output_type": "stream",
     "text": [
      "The matrix  is \n",
      "[[1. 1. 1. 1. 1. 1. 1. 1. 1. 1.]\n",
      " [1. 0. 0. 0. 0. 0. 0. 0. 0. 1.]\n",
      " [1. 0. 0. 0. 0. 0. 0. 0. 0. 1.]\n",
      " [1. 0. 0. 0. 0. 0. 0. 0. 0. 1.]\n",
      " [1. 0. 0. 0. 0. 0. 0. 0. 0. 1.]\n",
      " [1. 0. 0. 0. 0. 0. 0. 0. 0. 1.]\n",
      " [1. 0. 0. 0. 0. 0. 0. 0. 0. 1.]\n",
      " [1. 0. 0. 0. 0. 0. 0. 0. 0. 1.]\n",
      " [1. 0. 0. 0. 0. 0. 0. 0. 0. 1.]\n",
      " [1. 1. 1. 1. 1. 1. 1. 1. 1. 1.]]\n",
      "\n"
     ]
    }
   ],
   "source": [
    "#8. Create a 2d array with 1 on the border and 0 inside\n",
    "Len_R=10\n",
    "Len_C=10\n",
    "x9=np.zeros(shape=(Len_R, Len_C))\n",
    "x9[0]=np.ones(shape=(Len_C))\n",
    "x9[:,0]=np.ones(shape=(Len_R,))\n",
    "#x9[-1]=np.ones(shape=(Len_C))\n",
    "x9[-1]=1\n",
    "#x9[:,-1]=np.ones(shape=(Len_R,))\n",
    "x9[:,-1]=1\n",
    "print ('The matrix  is \\n%s\\n'%x9)"
   ]
  },
  {
   "cell_type": "code",
   "execution_count": 154,
   "metadata": {},
   "outputs": [
    {
     "name": "stdout",
     "output_type": "stream",
     "text": [
      "Matrix 1 is \n",
      "[[29 27 15]\n",
      " [36 16 36]\n",
      " [ 5 25 43]\n",
      " [ 9 35  6]\n",
      " [29 47 38]]\n",
      "\n",
      "Matrix 2 is \n",
      "[[91 65]\n",
      " [59 60]\n",
      " [54 51]]\n",
      "\n",
      "Matrix product is \n",
      "[[5042 4270]\n",
      " [6164 5136]\n",
      " [4252 4018]\n",
      " [3208 2991]\n",
      " [7464 6643]]\n",
      "\n",
      "---------------\n",
      "\n"
     ]
    }
   ],
   "source": [
    "#9. Multiply a 5x3 matrix by a 3x2 matrix (real matrix product)\n",
    "Len_R1=5\n",
    "Len_C1=3\n",
    "Len_R2=3\n",
    "Len_C2=2\n",
    "x10_1=np.random.randint(low=0, high=50, size=(Len_R1, Len_C1))\n",
    "x10_2=np.random.randint(low=51, high=99, size=(Len_R2, Len_C2))\n",
    "x10=np.dot(x10_1, x10_2)\n",
    "print ('Matrix 1 is \\n%s\\n'%x10_1)\n",
    "print ('Matrix 2 is \\n%s\\n'%x10_2)\n",
    "print ('Matrix product is \\n%s\\n'%x10)\n",
    "print ('---------------\\n')\n"
   ]
  },
  {
   "cell_type": "code",
   "execution_count": 93,
   "metadata": {},
   "outputs": [
    {
     "name": "stdout",
     "output_type": "stream",
     "text": [
      "Original matrix is : \n",
      "[30.20406938 57.53119316 82.17026868 69.73065603 12.38914078 25.15610161\n",
      " 41.03489076 59.0419925   5.78621549 53.37932601]\n",
      "\n",
      "Integer part of the original matrix is : \n",
      "[30. 57. 82. 69. 12. 25. 41. 59.  5. 53.]\n",
      "\n"
     ]
    }
   ],
   "source": [
    "#10. Extract the integer part of a random array\n",
    "Len=10\n",
    "x11= 100 * np.random.random(size=(Len,)) \n",
    "x11_1=np.zeros(shape=(Len,))\n",
    "print ('Original matrix is : \\n%s\\n'%x11)\n",
    "for i in range(Len):\n",
    "    x11_1[i]=int(x11[i])\n",
    "print ('Integer part of the original matrix is : \\n%s\\n'%x11_1)"
   ]
  },
  {
   "cell_type": "code",
   "execution_count": 102,
   "metadata": {},
   "outputs": [
    {
     "name": "stdout",
     "output_type": "stream",
     "text": [
      "[[0 4 2 4 0]\n",
      " [4 2 3 1 1]\n",
      " [0 1 1 1 4]\n",
      " [1 2 0 0 1]\n",
      " [1 3 2 3 3]]\n"
     ]
    }
   ],
   "source": [
    "#11. Create a 5x5 matrix with row values ranging from 0 to 4\n",
    "Len_R1=5\n",
    "Len_C1=5\n",
    "x12=np.random.randint(low=0, high=5, size=(Len_R1, Len_C1))\n",
    "print(x12)"
   ]
  },
  {
   "cell_type": "code",
   "execution_count": 107,
   "metadata": {},
   "outputs": [
    {
     "name": "stdout",
     "output_type": "stream",
     "text": [
      "Original matrix is : \n",
      "[7 4 0 3 5 8 4 3 3 6]\n",
      "\n",
      "The sorted matrix is : \n",
      "[0 3 3 3 4 4 5 6 7 8]\n",
      "\n"
     ]
    }
   ],
   "source": [
    "#12.  Create a random vector of size 10 and sort it\n",
    "Len_R=10\n",
    "x13=np.random.randint(low=0, high=Len_R, size=(Len_R, ))\n",
    "print ('Original matrix is : \\n%s\\n'%x13)\n",
    "x13_1=np.sort(x13)\n",
    "print ('The sorted matrix is : \\n%s\\n'%x13_1)"
   ]
  },
  {
   "cell_type": "code",
   "execution_count": 108,
   "metadata": {},
   "outputs": [
    {
     "name": "stdout",
     "output_type": "stream",
     "text": [
      "Matrix A is : \n",
      "[8 0 3 7 4 1 1 4 3 2]\n",
      "\n",
      "Matrix A is : \n",
      "[5 0 6 1 6 3 3 0 1 6]\n",
      "\n",
      "\n",
      "The two random array are NOT equal\n",
      "\n"
     ]
    }
   ],
   "source": [
    "#13. Consider two random array A anb B, check if they are equal.\n",
    "Len_R=10\n",
    "x14_1=np.random.randint(low=0, high=Len_R, size=(Len_R, ))\n",
    "x14_2=np.random.randint(low=0, high=Len_R, size=(Len_R, ))\n",
    "print ('Matrix A is : \\n%s\\n'%x14_1)\n",
    "print ('Matrix A is : \\n%s\\n'%x14_2)\n",
    "if np.array_equal(x14_1, x14_2):\n",
    "    print ('\\nThe two random array are equal\\n')\n",
    "else:\n",
    "    print ('\\nThe two random array are NOT equal\\n')"
   ]
  },
  {
   "cell_type": "code",
   "execution_count": 112,
   "metadata": {},
   "outputs": [
    {
     "name": "stdout",
     "output_type": "stream",
     "text": [
      "Matrix is : \n",
      "[[0 1 0 2 0 2 3 2 0 4]\n",
      " [1 4 2 1 0 2 1 3 4 2]\n",
      " [1 0 2 3 4 4 3 1 1 4]\n",
      " [3 3 1 4 0 4 1 3 3 2]\n",
      " [0 1 0 3 3 2 1 3 2 3]\n",
      " [4 0 1 3 4 1 4 0 4 0]\n",
      " [4 1 3 4 0 3 3 1 1 3]\n",
      " [2 3 2 3 2 3 4 4 1 3]\n",
      " [1 0 2 2 3 1 1 1 2 3]\n",
      " [3 4 1 0 0 1 3 2 3 1]]\n",
      "\n",
      "There isn't any null column(s)\n"
     ]
    }
   ],
   "source": [
    "#14. How to tell if a given 2D array has null columns?\n",
    "Len_R1=10\n",
    "Len_C1=10\n",
    "x15=np.random.randint(low=0, high=5, size=(Len_R1, Len_C1))\n",
    "print ('Matrix is : \\n%s\\n'%x15)\n",
    "if ((~x15.any(axis=0)).any()):\n",
    "    print('There are null column(s)')\n",
    "else:\n",
    "    print('There isn\\'t any null column(s)')"
   ]
  },
  {
   "cell_type": "code",
   "execution_count": 127,
   "metadata": {},
   "outputs": [
    {
     "name": "stdout",
     "output_type": "stream",
     "text": [
      "Sum over the last two axis for 0  0  is: 52.0\n",
      "\n",
      "Sum over the last two axis for 0  1  is: 53.0\n",
      "\n",
      "Sum over the last two axis for 0  2  is: 54.0\n",
      "\n",
      "Sum over the last two axis for 0  3  is: 45.0\n",
      "\n",
      "Sum over the last two axis for 0  4  is: 40.0\n",
      "\n",
      "Sum over the last two axis for 1  0  is: 53.0\n",
      "\n",
      "Sum over the last two axis for 1  1  is: 50.0\n",
      "\n",
      "Sum over the last two axis for 1  2  is: 54.0\n",
      "\n",
      "Sum over the last two axis for 1  3  is: 57.0\n",
      "\n",
      "Sum over the last two axis for 1  4  is: 53.0\n",
      "\n",
      "Sum over the last two axis for 2  0  is: 51.0\n",
      "\n",
      "Sum over the last two axis for 2  1  is: 46.0\n",
      "\n",
      "Sum over the last two axis for 2  2  is: 56.0\n",
      "\n",
      "Sum over the last two axis for 2  3  is: 59.0\n",
      "\n",
      "Sum over the last two axis for 2  4  is: 48.0\n",
      "\n",
      "Sum over the last two axis for 3  0  is: 44.0\n",
      "\n",
      "Sum over the last two axis for 3  1  is: 57.0\n",
      "\n",
      "Sum over the last two axis for 3  2  is: 42.0\n",
      "\n",
      "Sum over the last two axis for 3  3  is: 54.0\n",
      "\n",
      "Sum over the last two axis for 3  4  is: 44.0\n",
      "\n",
      "Sum over the last two axis for 4  0  is: 49.0\n",
      "\n",
      "Sum over the last two axis for 4  1  is: 44.0\n",
      "\n",
      "Sum over the last two axis for 4  2  is: 51.0\n",
      "\n",
      "Sum over the last two axis for 4  3  is: 53.0\n",
      "\n",
      "Sum over the last two axis for 4  4  is: 53.0\n",
      "\n"
     ]
    }
   ],
   "source": [
    "#15. Considering a four dimensions array, how to get sum over the last two axis at once?\n",
    "Len_1=5\n",
    "Len_2=5\n",
    "Len_3=5\n",
    "Len_4=5\n",
    "x15=np.random.randint(low=0, high=5, size=(Len_1, Len_2, Len_3, Len_4))\n",
    "sum=np.zeros(shape=(Len_1,Len_2))\n",
    "for i1 in range(Len_1):\n",
    "    for i2 in range(Len_2):\n",
    "         for i3 in range(Len_3):\n",
    "                 for i4 in range(Len_4):\n",
    "                        sum[i1][i2]=sum[i1][i2]+x15[i1][i2][i3][i4]\n",
    "         print('Sum over the last two axis for %s'%i1, ' %s'%i2, ' is: %s\\n'%sum[i1][i2])\n",
    "        "
   ]
  },
  {
   "cell_type": "code",
   "execution_count": 136,
   "metadata": {},
   "outputs": [
    {
     "name": "stdout",
     "output_type": "stream",
     "text": [
      "The fist Matrix is \n",
      "[[[39 18 31]\n",
      "  [39  2 63]\n",
      "  [63 71 66]\n",
      "  [48 62 35]\n",
      "  [57 30 54]]\n",
      "\n",
      " [[60 68 30]\n",
      "  [69 33 70]\n",
      "  [37 48 19]\n",
      "  [10 48 11]\n",
      "  [34 56 39]]\n",
      "\n",
      " [[39 66  4]\n",
      "  [28  4 42]\n",
      "  [ 4 61 67]\n",
      "  [56  6 33]\n",
      "  [42 28 28]]\n",
      "\n",
      " [[56 62 68]\n",
      "  [35 42 71]\n",
      "  [19 23 34]\n",
      "  [27 15 36]\n",
      "  [56 70 26]]\n",
      "\n",
      " [[67 49 26]\n",
      "  [47 27 30]\n",
      "  [22 16 55]\n",
      "  [51  2  5]\n",
      "  [29 17 73]]]\n",
      "\n",
      "The second Matrix is \n",
      "[[96 98 76 88 97]\n",
      " [94 99 83 96 89]\n",
      " [83 92 92 86 77]\n",
      " [95 79 87 97 86]\n",
      " [79 91 91 89 95]]\n",
      "\n",
      "The result Matrix is \n",
      "[[3744 3822 2964 ... 3549 3471 3705]\n",
      " [1728 1764 1368 ... 1638 1602 1710]\n",
      " [2976 3038 2356 ... 2821 2759 2945]\n",
      " ...\n",
      " [2784 2842 2204 ... 2639 2581 2755]\n",
      " [1632 1666 1292 ... 1547 1513 1615]\n",
      " [7008 7154 5548 ... 6643 6497 6935]]\n"
     ]
    }
   ],
   "source": [
    "#16. Consider an array of dimension (5,5,3), how to mulitply it by an array with dimensions (5,5)?\n",
    "#Question: I'm not sure if this is right. I tried different things, but taking the outer product of\n",
    "#arrays with non-equal dimensions seems to work. I did not find a solution in the videos or in the notebook, so\n",
    "#I tried to find something online.\n",
    "Len_1=5\n",
    "Len_2=5\n",
    "Len_3=3\n",
    "x16_1=np.random.randint(low=0, high=75, size=(Len_1, Len_2, Len_3))\n",
    "x16_2=np.random.randint(low=76, high=100, size=(Len_1, Len_2))\n",
    "print('The fist Matrix is \\n%s'%x16_1)\n",
    "print('\\nThe second Matrix is \\n%s'%x16_2)\n",
    "x16=np.outer(x16_1, x16_2)\n",
    "print('\\nThe result Matrix is \\n%s'%x16)"
   ]
  },
  {
   "cell_type": "code",
   "execution_count": 164,
   "metadata": {},
   "outputs": [
    {
     "name": "stdout",
     "output_type": "stream",
     "text": [
      "The original Matrix is \n",
      "[[61 64 55 62  0 22  2 19 30 27]\n",
      " [36 46 28 54 82 34  2 95 71 92]\n",
      " [99 87 39 94 36 87 55 30 73 86]\n",
      " [92 52 71 88 85 29 16 65  9 29]\n",
      " [14  3 10 53 58  0 78  5  0 81]\n",
      " [59  1 96  7 34 67 50 54 34  8]\n",
      " [19 28 60 33 77 17 59 91 54 27]\n",
      " [ 8  8 44 14 75 36 32 74 59 81]\n",
      " [99 83 85 79 12 35 27 33 21 98]\n",
      " [63 45 40 36 32 92 89 65 39 30]]\n",
      "\n",
      "There are 64  3x3 blocks\n"
     ]
    }
   ],
   "source": [
    "#17. Extract all the contiguous 3x3 blocks from a random 10x10 matrix\n",
    "#CONFUSED: Outside of my understanding from the lectures. Sorry. I can make the matrix but not sure how \n",
    "#to get the 'blocks'\n",
    "Len_1=10\n",
    "Len_2=10\n",
    "x17_t=np.zeros(shape=(3, 3))\n",
    "x17=np.random.randint(low=0, high=100, size=(Len_1, Len_2))\n",
    "print('The original Matrix is \\n%s'%x17)\n",
    "count=0\n",
    "for i in range(Len_1-2):\n",
    "    for j in range(Len_2-2):\n",
    "        count=count+1\n",
    "print('\\nThere are %s'%count, ' 3x3 blocks')        \n",
    "\n"
   ]
  },
  {
   "cell_type": "code",
   "execution_count": 166,
   "metadata": {},
   "outputs": [
    {
     "name": "stdout",
     "output_type": "stream",
     "text": [
      "The original Matrix is \n",
      "[[267  96 251  25 225  33 243 205 117 118   6 194  30 151 142 144]\n",
      " [150 185 222  70 123  45 163 217 217  41 264 200  80  10 106 165]\n",
      " [ 34 124 110  43  37 202  35  64 278 262  67  10  74 143  25 270]\n",
      " [141 198 260   6  64 248 173 274  23 202  98 241 275  21 103  69]\n",
      " [ 21 243 220 235   5  67 294  50 222 110 115  74 183 276  71 239]\n",
      " [107  70 160  92 269  12 256  65 128 277 213 263 213 107 258  35]\n",
      " [121   8 288 132  47 123 235 138 280 204  81  49  26 274 107 213]\n",
      " [ 80  64  15  35  14 143 118   4 273 166  72 281 214  89 207 251]\n",
      " [270 194 265 134 279 115  46 215 130 141 266  66 207  81  41 266]\n",
      " [221 261   0 120  14 124  86  26 126   0 127  59 110 265 210 150]\n",
      " [  3 104  76 261 254   5 185 268  72  53  95 258 267 161 237  43]\n",
      " [283 220 197  32 223 259 150  81 221 169 280 249 230  30 200 146]\n",
      " [113  89 204 151 279 204 264  38  96 250 262 276 218 117 105  63]\n",
      " [151  83 257 210 264 101  86 138 115 249  42  15 135 276 226  86]\n",
      " [151 254 191 156 239  76 102 124  49  75  64  39 159 297  50 203]\n",
      " [257  96 264 221   5  20  86 181 255   1 289  95 114 182  35 135]]\n",
      "\n",
      "There are 5  4x4 blocks\n",
      "The sum of the 4x4 matrix is \n",
      "[[267.  96. 251.  25.]\n",
      " [150. 739. 222.  70.]\n",
      " [ 34. 124. 110.  43.]\n",
      " [141. 198. 260.   6.]]\n"
     ]
    }
   ],
   "source": [
    "#18. Consider a 16x16 array, how to get the block-sum (block size is 4x4)?\n",
    "Len_1=16\n",
    "Len_2=16\n",
    "x18_t=np.zeros(shape=(4, 4))\n",
    "x18=np.random.randint(low=0, high=300, size=(Len_1, Len_2))\n",
    "print('The original Matrix is \\n%s'%x18)\n",
    "\n",
    "for i in range(4):\n",
    "    for j in range(4):\n",
    "        x18_t[i][j]=x18[i][j]\n",
    "\n",
    "count=1\n",
    "for i in (1,Len_1-3):\n",
    "    for j in (1,Len_2-3):\n",
    "        count=count+1\n",
    "        x18_t[i%4][j%4]= x18_t[i%4][j%4]+x18[i][j]\n",
    "print('\\nThere are %s'%count, ' 4x4 blocks') \n",
    "print('The sum of the 4x4 matrix is \\n%s'%x18_t)"
   ]
  },
  {
   "cell_type": "code",
   "execution_count": 172,
   "metadata": {},
   "outputs": [
    {
     "name": "stdout",
     "output_type": "stream",
     "text": [
      "t=-0.7651603661973713, p=0.44426642582789555\n"
     ]
    }
   ],
   "source": [
    "#19. Generate 2 random gaussian distributions and run a t-test to see differences\n",
    "from scipy.stats import ttest_ind\n",
    "from scipy.stats import t\n",
    "x19_1 = np.random.randn(1000)\n",
    "x19_2 = np.random.randn(1000)\n",
    "t_stat, p = ttest_ind(x19_1, x19_2)\n",
    "print(f't={t_stat}, p={p}')\n"
   ]
  },
  {
   "cell_type": "code",
   "execution_count": null,
   "metadata": {},
   "outputs": [],
   "source": []
  }
 ],
 "metadata": {
  "hide_input": false,
  "kernelspec": {
   "display_name": "Python 3",
   "language": "python",
   "name": "python3"
  },
  "language_info": {
   "codemirror_mode": {
    "name": "ipython",
    "version": 3
   },
   "file_extension": ".py",
   "mimetype": "text/x-python",
   "name": "python",
   "nbconvert_exporter": "python",
   "pygments_lexer": "ipython3",
   "version": "3.8.8"
  }
 },
 "nbformat": 4,
 "nbformat_minor": 4
}
